{
 "cells": [
  {
   "cell_type": "code",
   "execution_count": 4,
   "metadata": {
    "collapsed": true
   },
   "outputs": [],
   "source": [
    "import pandas as pd\n",
    "import matplotlib.pyplot as plt"
   ]
  },
  {
   "cell_type": "code",
   "execution_count": 37,
   "metadata": {
    "collapsed": false
   },
   "outputs": [
    {
     "data": {
      "text/plain": [
       "152"
      ]
     },
     "execution_count": 37,
     "metadata": {},
     "output_type": "execute_result"
    }
   ],
   "source": [
    "df = pd.read_csv('results.csv')\n",
    "len(df)"
   ]
  },
  {
   "cell_type": "code",
   "execution_count": 38,
   "metadata": {
    "collapsed": false
   },
   "outputs": [
    {
     "data": {
      "text/html": [
       "<div>\n",
       "<table border=\"1\" class=\"dataframe\">\n",
       "  <thead>\n",
       "    <tr style=\"text-align: right;\">\n",
       "      <th></th>\n",
       "      <th>Unnamed: 0</th>\n",
       "      <th>Seed</th>\n",
       "      <th>n</th>\n",
       "      <th>Report Prop</th>\n",
       "      <th>Pref Dist Type</th>\n",
       "      <th># Buckets</th>\n",
       "      <th>Pos/Neg Effect</th>\n",
       "      <th>Liquidity</th>\n",
       "      <th># Rounds</th>\n",
       "    </tr>\n",
       "  </thead>\n",
       "  <tbody>\n",
       "    <tr>\n",
       "      <th>0</th>\n",
       "      <td>0</td>\n",
       "      <td>2592</td>\n",
       "      <td>1000</td>\n",
       "      <td>1.00</td>\n",
       "      <td>correlated</td>\n",
       "      <td>1</td>\n",
       "      <td>+0 / -0</td>\n",
       "      <td>0.968</td>\n",
       "      <td>128</td>\n",
       "    </tr>\n",
       "    <tr>\n",
       "      <th>1</th>\n",
       "      <td>1</td>\n",
       "      <td>2592</td>\n",
       "      <td>1000</td>\n",
       "      <td>1.00</td>\n",
       "      <td>uniform</td>\n",
       "      <td>1</td>\n",
       "      <td>+869 / -86</td>\n",
       "      <td>0.985</td>\n",
       "      <td>45</td>\n",
       "    </tr>\n",
       "    <tr>\n",
       "      <th>2</th>\n",
       "      <td>2</td>\n",
       "      <td>2592</td>\n",
       "      <td>1000</td>\n",
       "      <td>0.95</td>\n",
       "      <td>correlated</td>\n",
       "      <td>1</td>\n",
       "      <td>+587 / -253</td>\n",
       "      <td>0.969</td>\n",
       "      <td>130</td>\n",
       "    </tr>\n",
       "    <tr>\n",
       "      <th>3</th>\n",
       "      <td>3</td>\n",
       "      <td>2592</td>\n",
       "      <td>1000</td>\n",
       "      <td>0.90</td>\n",
       "      <td>correlated</td>\n",
       "      <td>1</td>\n",
       "      <td>+612 / -278</td>\n",
       "      <td>0.967</td>\n",
       "      <td>132</td>\n",
       "    </tr>\n",
       "    <tr>\n",
       "      <th>4</th>\n",
       "      <td>4</td>\n",
       "      <td>2592</td>\n",
       "      <td>1000</td>\n",
       "      <td>0.85</td>\n",
       "      <td>correlated</td>\n",
       "      <td>1</td>\n",
       "      <td>+658 / -248</td>\n",
       "      <td>0.973</td>\n",
       "      <td>122</td>\n",
       "    </tr>\n",
       "  </tbody>\n",
       "</table>\n",
       "</div>"
      ],
      "text/plain": [
       "   Unnamed: 0  Seed     n  Report Prop Pref Dist Type  # Buckets  \\\n",
       "0           0  2592  1000         1.00     correlated          1   \n",
       "1           1  2592  1000         1.00        uniform          1   \n",
       "2           2  2592  1000         0.95     correlated          1   \n",
       "3           3  2592  1000         0.90     correlated          1   \n",
       "4           4  2592  1000         0.85     correlated          1   \n",
       "\n",
       "  Pos/Neg Effect  Liquidity  # Rounds  \n",
       "0        +0 / -0      0.968       128  \n",
       "1     +869 / -86      0.985        45  \n",
       "2    +587 / -253      0.969       130  \n",
       "3    +612 / -278      0.967       132  \n",
       "4    +658 / -248      0.973       122  "
      ]
     },
     "execution_count": 38,
     "metadata": {},
     "output_type": "execute_result"
    }
   ],
   "source": [
    "df.head()"
   ]
  },
  {
   "cell_type": "code",
   "execution_count": 39,
   "metadata": {
    "collapsed": true
   },
   "outputs": [],
   "source": [
    "corr_df = df.loc[df['Pref Dist Type'] == 'correlated']"
   ]
  },
  {
   "cell_type": "code",
   "execution_count": 40,
   "metadata": {
    "collapsed": false
   },
   "outputs": [
    {
     "data": {
      "text/html": [
       "<div>\n",
       "<table border=\"1\" class=\"dataframe\">\n",
       "  <thead>\n",
       "    <tr style=\"text-align: right;\">\n",
       "      <th></th>\n",
       "      <th>Unnamed: 0</th>\n",
       "      <th>Seed</th>\n",
       "      <th>n</th>\n",
       "      <th>Report Prop</th>\n",
       "      <th>Pref Dist Type</th>\n",
       "      <th># Buckets</th>\n",
       "      <th>Pos/Neg Effect</th>\n",
       "      <th>Liquidity</th>\n",
       "      <th># Rounds</th>\n",
       "    </tr>\n",
       "  </thead>\n",
       "  <tbody>\n",
       "    <tr>\n",
       "      <th>0</th>\n",
       "      <td>0</td>\n",
       "      <td>2592</td>\n",
       "      <td>1000</td>\n",
       "      <td>1.00</td>\n",
       "      <td>correlated</td>\n",
       "      <td>1</td>\n",
       "      <td>+0 / -0</td>\n",
       "      <td>0.968</td>\n",
       "      <td>128</td>\n",
       "    </tr>\n",
       "    <tr>\n",
       "      <th>2</th>\n",
       "      <td>2</td>\n",
       "      <td>2592</td>\n",
       "      <td>1000</td>\n",
       "      <td>0.95</td>\n",
       "      <td>correlated</td>\n",
       "      <td>1</td>\n",
       "      <td>+587 / -253</td>\n",
       "      <td>0.969</td>\n",
       "      <td>130</td>\n",
       "    </tr>\n",
       "    <tr>\n",
       "      <th>3</th>\n",
       "      <td>3</td>\n",
       "      <td>2592</td>\n",
       "      <td>1000</td>\n",
       "      <td>0.90</td>\n",
       "      <td>correlated</td>\n",
       "      <td>1</td>\n",
       "      <td>+612 / -278</td>\n",
       "      <td>0.967</td>\n",
       "      <td>132</td>\n",
       "    </tr>\n",
       "    <tr>\n",
       "      <th>4</th>\n",
       "      <td>4</td>\n",
       "      <td>2592</td>\n",
       "      <td>1000</td>\n",
       "      <td>0.85</td>\n",
       "      <td>correlated</td>\n",
       "      <td>1</td>\n",
       "      <td>+658 / -248</td>\n",
       "      <td>0.973</td>\n",
       "      <td>122</td>\n",
       "    </tr>\n",
       "    <tr>\n",
       "      <th>5</th>\n",
       "      <td>5</td>\n",
       "      <td>2592</td>\n",
       "      <td>1000</td>\n",
       "      <td>0.80</td>\n",
       "      <td>correlated</td>\n",
       "      <td>1</td>\n",
       "      <td>+653 / -253</td>\n",
       "      <td>0.972</td>\n",
       "      <td>130</td>\n",
       "    </tr>\n",
       "  </tbody>\n",
       "</table>\n",
       "</div>"
      ],
      "text/plain": [
       "   Unnamed: 0  Seed     n  Report Prop Pref Dist Type  # Buckets  \\\n",
       "0           0  2592  1000         1.00     correlated          1   \n",
       "2           2  2592  1000         0.95     correlated          1   \n",
       "3           3  2592  1000         0.90     correlated          1   \n",
       "4           4  2592  1000         0.85     correlated          1   \n",
       "5           5  2592  1000         0.80     correlated          1   \n",
       "\n",
       "  Pos/Neg Effect  Liquidity  # Rounds  \n",
       "0        +0 / -0      0.968       128  \n",
       "2    +587 / -253      0.969       130  \n",
       "3    +612 / -278      0.967       132  \n",
       "4    +658 / -248      0.973       122  \n",
       "5    +653 / -253      0.972       130  "
      ]
     },
     "execution_count": 40,
     "metadata": {},
     "output_type": "execute_result"
    }
   ],
   "source": [
    "corr_df.head()"
   ]
  },
  {
   "cell_type": "code",
   "execution_count": 81,
   "metadata": {
    "collapsed": false
   },
   "outputs": [
    {
     "data": {
      "text/html": [
       "<div>\n",
       "<table border=\"1\" class=\"dataframe\">\n",
       "  <thead>\n",
       "    <tr style=\"text-align: right;\">\n",
       "      <th></th>\n",
       "      <th>Unnamed: 0</th>\n",
       "      <th>Seed</th>\n",
       "      <th>n</th>\n",
       "      <th>Report Prop</th>\n",
       "      <th>Pref Dist Type</th>\n",
       "      <th># Buckets</th>\n",
       "      <th>Pos/Neg Effect</th>\n",
       "      <th>Liquidity</th>\n",
       "      <th># Rounds</th>\n",
       "    </tr>\n",
       "  </thead>\n",
       "  <tbody>\n",
       "    <tr>\n",
       "      <th>0</th>\n",
       "      <td>0</td>\n",
       "      <td>2592</td>\n",
       "      <td>1000</td>\n",
       "      <td>1.0</td>\n",
       "      <td>correlated</td>\n",
       "      <td>1</td>\n",
       "      <td>+0 / -0</td>\n",
       "      <td>0.968</td>\n",
       "      <td>128</td>\n",
       "    </tr>\n",
       "    <tr>\n",
       "      <th>40</th>\n",
       "      <td>40</td>\n",
       "      <td>2592</td>\n",
       "      <td>1000</td>\n",
       "      <td>1.0</td>\n",
       "      <td>correlated</td>\n",
       "      <td>5</td>\n",
       "      <td>+234 / -627</td>\n",
       "      <td>0.925</td>\n",
       "      <td>188</td>\n",
       "    </tr>\n",
       "    <tr>\n",
       "      <th>41</th>\n",
       "      <td>41</td>\n",
       "      <td>2592</td>\n",
       "      <td>1000</td>\n",
       "      <td>1.0</td>\n",
       "      <td>correlated</td>\n",
       "      <td>10</td>\n",
       "      <td>+200 / -730</td>\n",
       "      <td>0.897</td>\n",
       "      <td>235</td>\n",
       "    </tr>\n",
       "    <tr>\n",
       "      <th>42</th>\n",
       "      <td>42</td>\n",
       "      <td>2592</td>\n",
       "      <td>1000</td>\n",
       "      <td>1.0</td>\n",
       "      <td>correlated</td>\n",
       "      <td>15</td>\n",
       "      <td>+194 / -757</td>\n",
       "      <td>0.867</td>\n",
       "      <td>251</td>\n",
       "    </tr>\n",
       "    <tr>\n",
       "      <th>43</th>\n",
       "      <td>43</td>\n",
       "      <td>2592</td>\n",
       "      <td>1000</td>\n",
       "      <td>1.0</td>\n",
       "      <td>correlated</td>\n",
       "      <td>20</td>\n",
       "      <td>+174 / -782</td>\n",
       "      <td>0.855</td>\n",
       "      <td>283</td>\n",
       "    </tr>\n",
       "  </tbody>\n",
       "</table>\n",
       "</div>"
      ],
      "text/plain": [
       "    Unnamed: 0  Seed     n  Report Prop Pref Dist Type  # Buckets  \\\n",
       "0            0  2592  1000          1.0     correlated          1   \n",
       "40          40  2592  1000          1.0     correlated          5   \n",
       "41          41  2592  1000          1.0     correlated         10   \n",
       "42          42  2592  1000          1.0     correlated         15   \n",
       "43          43  2592  1000          1.0     correlated         20   \n",
       "\n",
       "   Pos/Neg Effect  Liquidity  # Rounds  \n",
       "0         +0 / -0      0.968       128  \n",
       "40    +234 / -627      0.925       188  \n",
       "41    +200 / -730      0.897       235  \n",
       "42    +194 / -757      0.867       251  \n",
       "43    +174 / -782      0.855       283  "
      ]
     },
     "execution_count": 81,
     "metadata": {},
     "output_type": "execute_result"
    }
   ],
   "source": [
    "corr_buckets = corr_df.loc[corr_df[\"Report Prop\"] == 1.0]\n",
    "corr_buckets.head()"
   ]
  },
  {
   "cell_type": "code",
   "execution_count": 94,
   "metadata": {
    "collapsed": false
   },
   "outputs": [
    {
     "data": {
      "text/plain": [
       "<matplotlib.figure.Figure at 0x11b158ad0>"
      ]
     },
     "metadata": {},
     "output_type": "display_data"
    },
    {
     "data": {
      "image/png": "[encoded data removed]",
      "text/plain": [
       "<matplotlib.figure.Figure at 0x11784a8d0>"
      ]
     },
     "metadata": {},
     "output_type": "display_data"
    }
   ],
   "source": [
    "fig, axes = plt.subplots(nrows=1, ncols=2, figsize=(8, 4))\n",
    "corr_buckets.plot(x=\"# Buckets\", y=\"Liquidity\", color='b', ax=axes[0], legend=None)\n",
    "corr_buckets.plot(x=\"# Buckets\", y=\"# Rounds\", color='r', ax=axes[1], legend=None)\n",
    "axes[0].set_xlabel('Number of Buckets')\n",
    "axes[0].set_ylabel('Liquidity')\n",
    "axes[1].set_xlabel('Number of Buckets')\n",
    "axes[1].set_ylabel('Number of Rounds')\n",
    "plt.tight_layout()\n",
    "plt.savefig('correlated_bucketing_effect')\n",
    "plt.show()"
   ]
  },
  {
   "cell_type": "code",
   "execution_count": 89,
   "metadata": {
    "collapsed": false
   },
   "outputs": [
    {
     "data": {
      "text/html": [
       "<div>\n",
       "<table border=\"1\" class=\"dataframe\">\n",
       "  <thead>\n",
       "    <tr style=\"text-align: right;\">\n",
       "      <th></th>\n",
       "      <th>Unnamed: 0</th>\n",
       "      <th>Seed</th>\n",
       "      <th>n</th>\n",
       "      <th>Report Prop</th>\n",
       "      <th>Pref Dist Type</th>\n",
       "      <th># Buckets</th>\n",
       "      <th>Pos/Neg Effect</th>\n",
       "      <th>Liquidity</th>\n",
       "      <th># Rounds</th>\n",
       "    </tr>\n",
       "  </thead>\n",
       "  <tbody>\n",
       "    <tr>\n",
       "      <th>0</th>\n",
       "      <td>0</td>\n",
       "      <td>2592</td>\n",
       "      <td>1000</td>\n",
       "      <td>1.00</td>\n",
       "      <td>correlated</td>\n",
       "      <td>1</td>\n",
       "      <td>+0 / -0</td>\n",
       "      <td>0.968</td>\n",
       "      <td>128</td>\n",
       "    </tr>\n",
       "    <tr>\n",
       "      <th>2</th>\n",
       "      <td>2</td>\n",
       "      <td>2592</td>\n",
       "      <td>1000</td>\n",
       "      <td>0.95</td>\n",
       "      <td>correlated</td>\n",
       "      <td>1</td>\n",
       "      <td>+587 / -253</td>\n",
       "      <td>0.969</td>\n",
       "      <td>130</td>\n",
       "    </tr>\n",
       "    <tr>\n",
       "      <th>3</th>\n",
       "      <td>3</td>\n",
       "      <td>2592</td>\n",
       "      <td>1000</td>\n",
       "      <td>0.90</td>\n",
       "      <td>correlated</td>\n",
       "      <td>1</td>\n",
       "      <td>+612 / -278</td>\n",
       "      <td>0.967</td>\n",
       "      <td>132</td>\n",
       "    </tr>\n",
       "    <tr>\n",
       "      <th>4</th>\n",
       "      <td>4</td>\n",
       "      <td>2592</td>\n",
       "      <td>1000</td>\n",
       "      <td>0.85</td>\n",
       "      <td>correlated</td>\n",
       "      <td>1</td>\n",
       "      <td>+658 / -248</td>\n",
       "      <td>0.973</td>\n",
       "      <td>122</td>\n",
       "    </tr>\n",
       "    <tr>\n",
       "      <th>5</th>\n",
       "      <td>5</td>\n",
       "      <td>2592</td>\n",
       "      <td>1000</td>\n",
       "      <td>0.80</td>\n",
       "      <td>correlated</td>\n",
       "      <td>1</td>\n",
       "      <td>+653 / -253</td>\n",
       "      <td>0.972</td>\n",
       "      <td>130</td>\n",
       "    </tr>\n",
       "  </tbody>\n",
       "</table>\n",
       "</div>"
      ],
      "text/plain": [
       "   Unnamed: 0  Seed     n  Report Prop Pref Dist Type  # Buckets  \\\n",
       "0           0  2592  1000         1.00     correlated          1   \n",
       "2           2  2592  1000         0.95     correlated          1   \n",
       "3           3  2592  1000         0.90     correlated          1   \n",
       "4           4  2592  1000         0.85     correlated          1   \n",
       "5           5  2592  1000         0.80     correlated          1   \n",
       "\n",
       "  Pos/Neg Effect  Liquidity  # Rounds  \n",
       "0        +0 / -0      0.968       128  \n",
       "2    +587 / -253      0.969       130  \n",
       "3    +612 / -278      0.967       132  \n",
       "4    +658 / -248      0.973       122  \n",
       "5    +653 / -253      0.972       130  "
      ]
     },
     "execution_count": 89,
     "metadata": {},
     "output_type": "execute_result"
    }
   ],
   "source": [
    "corr_prop = corr_df.loc[corr_df[\"# Buckets\"] == 1]\n",
    "corr_prop.head()"
   ]
  },
  {
   "cell_type": "code",
   "execution_count": 95,
   "metadata": {
    "collapsed": false
   },
   "outputs": [
    {
     "data": {
      "image/png": "[encoded data removed]",
      "text/plain": [
       "<matplotlib.figure.Figure at 0x11b84ab90>"
      ]
     },
     "metadata": {},
     "output_type": "display_data"
    }
   ],
   "source": [
    "fig, axes = plt.subplots(nrows=1, ncols=2, figsize=(8, 4))\n",
    "corr_prop.plot(x=\"Report Prop\", y=\"Liquidity\", color='b', ax=axes[0], legend=None)\n",
    "corr_prop.plot(x=\"Report Prop\", y=\"# Rounds\", color='r', ax=axes[1], legend=None)\n",
    "axes[0].set_xlabel('Proportion of Preferences Reported')\n",
    "axes[0].set_ylabel('Liquidity')\n",
    "axes[1].set_xlabel('Proportion of Preferences Reported')\n",
    "axes[1].set_ylabel('Number of Rounds')\n",
    "plt.tight_layout()\n",
    "plt.savefig('correlated_proportion_effect')\n",
    "plt.show()"
   ]
  },
  {
   "cell_type": "code",
   "execution_count": null,
   "metadata": {
    "collapsed": true
   },
   "outputs": [],
   "source": []
  }
 ],
 "metadata": {
  "kernelspec": {
   "display_name": "Python 2",
   "language": "python",
   "name": "python2"
  },
  "language_info": {
   "codemirror_mode": {
    "name": "ipython",
    "version": 2
   },
   "file_extension": ".py",
   "mimetype": "text/x-python",
   "name": "python",
   "nbconvert_exporter": "python",
   "pygments_lexer": "ipython2",
   "version": "2.7.13"
  }
 },
 "nbformat": 4,
 "nbformat_minor": 2
}
